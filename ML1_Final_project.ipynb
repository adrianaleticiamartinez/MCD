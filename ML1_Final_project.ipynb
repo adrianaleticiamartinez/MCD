{
  "nbformat": 4,
  "nbformat_minor": 0,
  "metadata": {
    "colab": {
      "provenance": [],
      "include_colab_link": true
    },
    "kernelspec": {
      "name": "python3",
      "display_name": "Python 3"
    },
    "language_info": {
      "name": "python"
    }
  },
  "cells": [
    {
      "cell_type": "markdown",
      "metadata": {
        "id": "view-in-github",
        "colab_type": "text"
      },
      "source": [
        "<a href=\"https://colab.research.google.com/github/adrianaleticiamartinez/MCD/blob/main/ML1_Final_project.ipynb\" target=\"_parent\"><img src=\"https://colab.research.google.com/assets/colab-badge.svg\" alt=\"Open In Colab\"/></a>"
      ]
    },
    {
      "cell_type": "code",
      "execution_count": 72,
      "metadata": {
        "id": "FYGpuI_CElfR"
      },
      "outputs": [],
      "source": []
    },
    {
      "cell_type": "markdown",
      "source": [
        "# Social Media Bot Detection Project\n",
        "\n",
        "GitHub link: https://github.com/adrianaleticiamartinez/MCD/blob/main/ML1_Final_project.ipynb\n",
        "\n",
        "## Project Metadata\n",
        "\n",
        "- **University:** Universidad Panamericana\n",
        "- **Course:** Machine Learning I\n",
        "- **Team Members:**\n",
        "  - David Arturo Hernández Gómez\n",
        "  - Adriana Leticia Martínez Estrada\n",
        "- **Date:** December 5th, 2023\n",
        "- **Code Version:** 1.3\n",
        "\n",
        "## Project Overview\n",
        "\n",
        "### Description\n",
        "The advent of social media has been accompanied by the proliferation of automated accounts or 'bots' that can significantly influence the dissemination of information. These bots can be benign, serving to automate repetitive tasks, or malicious, spreading misinformation or spam. The goal of this project is to create a supervised machine learning model that can accurately distinguish between human users and bots based on their behavior on social media platforms.\n",
        "\n",
        "### Objectives\n",
        "- To understand the patterns and characteristics that differentiate bot behavior from human behavior.\n",
        "- To implement a binary classification model that can predict whether a social media account is a bot.\n",
        "- To evaluate the model's performance using metrics such as AUC-ROC, precision, and sensitivity.\n",
        "\n",
        "## Methodology\n",
        "\n",
        "### Data Processing\n",
        "We begin by sourcing data from known bot and human-operated accounts, extracting features indicative of their behavior patterns.\n",
        "\n",
        "### Model Development\n",
        "We will explore various machine learning algorithms, fine-tune our models, and validate their performance rigorously.\n",
        "\n",
        "### Evaluation\n",
        "Performance of the models will be assessed using the AUC-ROC curve, precision, recall, and f1-score metrics, ensuring a robust evaluation framework.\n",
        "\n",
        "## Execution Instructions\n",
        "Please execute all the notebook cells in sequential order. Each cell is documented to describe the processes being performed, from data preprocessing to model evaluation.\n",
        "\n",
        "---\n",
        "\n",
        "*For detailed analysis and discussion on the results, please refer to the subsequent sections of this notebook.*\n",
        "\n"
      ],
      "metadata": {
        "id": "9Iu20HToEu2h"
      }
    },
    {
      "cell_type": "markdown",
      "source": [],
      "metadata": {
        "id": "3aINxjWrFHEy"
      }
    },
    {
      "cell_type": "markdown",
      "source": [
        "## Implementation"
      ],
      "metadata": {
        "id": "9nvg2PPrFx6s"
      }
    },
    {
      "cell_type": "code",
      "source": [
        "# Necessary library imports\n",
        "import pandas as pd\n",
        "import numpy as np\n",
        "import matplotlib.pyplot as plt\n",
        "from matplotlib.pylab import rcParams\n",
        "from sklearn.datasets import fetch_openml\n",
        "from sklearn.model_selection import train_test_split\n",
        "from sklearn.impute import SimpleImputer\n",
        "from sklearn.preprocessing import OneHotEncoder, StandardScaler, LabelEncoder\n",
        "from sklearn.pipeline import Pipeline\n",
        "from sklearn.compose import ColumnTransformer\n",
        "from sklearn.linear_model import RidgeClassifier\n",
        "from sklearn.tree import DecisionTreeClassifier\n",
        "from sklearn.linear_model import LogisticRegression\n",
        "from sklearn import svm\n",
        "from sklearn.metrics import classification_report, roc_auc_score, ConfusionMatrixDisplay"
      ],
      "metadata": {
        "id": "CP9ZjCPVEui-"
      },
      "execution_count": 73,
      "outputs": []
    },
    {
      "cell_type": "code",
      "source": [
        "import warnings;\n",
        "warnings.simplefilter('ignore')"
      ],
      "metadata": {
        "id": "cHuvJSofRI16"
      },
      "execution_count": 74,
      "outputs": []
    },
    {
      "cell_type": "code",
      "source": [
        "# Global variables\n",
        "DATASET_BOT_PATH = 'https://raw.githubusercontent.com/adrianaleticiamartinez/MCD/main/botwiki-2019.tsv'\n",
        "DATASET_BOT_COMPLEMENT_PATH = \"https://raw.githubusercontent.com/adrianaleticiamartinez/MCD/main/botwiki-2019_tweets.json\"\n",
        "DATASET_USER_PATH = 'https://raw.githubusercontent.com/adrianaleticiamartinez/MCD/main/verified-2019.tsv'\n",
        "DATASET_USER_COMPLEMENT_PATH = 'https://raw.githubusercontent.com/adrianaleticiamartinez/MCD/main/verified-2019_tweets.json'"
      ],
      "metadata": {
        "id": "EHhcThG8F3Tt"
      },
      "execution_count": 75,
      "outputs": []
    },
    {
      "cell_type": "code",
      "source": [
        "#Cleaning single field registries\n",
        "def columns_analize(df, campos_unicos):\n",
        "  columns_to_drop = []\n",
        "  for i in df.columns:\n",
        "    if len(list(df[i].value_counts())) <= campos_unicos:\n",
        "      columns_to_drop.append(i)\n",
        "  return columns_to_drop"
      ],
      "metadata": {
        "id": "P66Gpzo6ZzqE"
      },
      "execution_count": 76,
      "outputs": []
    },
    {
      "cell_type": "code",
      "source": [
        "# Main data preprocessing and analysis functions\n",
        "def preprocess_data():\n",
        "    \"\"\"\n",
        "    Preprocesses the raw data by cleaning and encoding features.\n",
        "\n",
        "    Returns:\n",
        "        X_train_preprocessed (array): Preprocessed training features.\n",
        "        X_test_preprocessed (array): Preprocessed testing features.\n",
        "        y_train (array): Encoded training labels.\n",
        "        y_test (array): Encoded testing labels.\n",
        "    \"\"\"\n",
        "    #--Extraction--\n",
        "    print(\"x\")\n",
        "\n",
        "    #Reading bot information\n",
        "    data_raw_bot = pd.read_csv(DATASET_BOT_PATH,sep='\\t', header=0,  names=['id', 'label'])\n",
        "    data_raw_bot_complement = pd.read_json(DATASET_BOT_COMPLEMENT_PATH)\n",
        "    df_unpacked_bot = pd.json_normalize(data_raw_bot_complement['user'])\n",
        "    joined_bot_data = pd.merge(data_raw_bot, df_unpacked_bot, on=\"id\")\n",
        "    print(\"x\")\n",
        "\n",
        "    #Reading user information\n",
        "    data_raw_user = pd.read_csv(DATASET_USER_PATH,sep='\\t', header=0,  names=['id', 'label'])\n",
        "    data_raw_user_complement = pd.read_json(DATASET_USER_COMPLEMENT_PATH)\n",
        "    df_unpacked_user = pd.json_normalize(data_raw_user_complement['user'])\n",
        "    joined_user_data = pd.merge(data_raw_user, df_unpacked_user, on=\"id\")\n",
        "\n",
        "    #Full data\n",
        "    frames = [joined_bot_data, joined_user_data]\n",
        "    full_data = pd.concat(frames)\n",
        "\n",
        "    #--Transformation--\n",
        "    size_Data = len(full_data)\n",
        "    full_data = full_data.drop(columns = [\"id_str\", \"name\"])\n",
        "\n",
        "\n",
        "\n",
        "    unique_value_all_columns = columns_analize(full_data, 1)\n",
        "\n",
        "    full_data = full_data.drop(columns = unique_value_all_columns)\n",
        "\n",
        "    only_two_values_columns = columns_analize(full_data, 5)\n",
        "\n",
        "    columns_to_drop = []\n",
        "    for i in only_two_values_columns:\n",
        "      percentage_same_value = [(x / size_Data) for x in list(full_data[i].value_counts())]\n",
        "      for j in percentage_same_value:\n",
        "        if j > 0.9:\n",
        "          columns_to_drop.append(i)\n",
        "\n",
        "    full_data = full_data.drop(columns = columns_to_drop)\n",
        "\n",
        "    #Droping all columns that contain an URL\n",
        "    columns_with_url = full_data.filter(regex='url', axis=1)\n",
        "\n",
        "    full_data = full_data.drop(columns = columns_with_url.columns)\n",
        "\n",
        "    #Droping all columns with color data\n",
        "    columns_with_color = full_data.filter(like='color', axis=1)\n",
        "\n",
        "    full_data = full_data.drop(columns=columns_with_color.columns)\n",
        "\n",
        "    #Droping creation date column\n",
        "    full_data = full_data.drop(columns=[\"created_at\"])\n",
        "    #Droping description column\n",
        "\n",
        "    full_data = full_data.drop(columns=[\"description\"])\n",
        "\n",
        "    #Data Segmentation\n",
        "\n",
        "    X = full_data[[\"location\", \"followers_count\", \"friends_count\", \"listed_count\", \"favourites_count\", \"geo_enabled\", \"verified\", \"statuses_count\", \"profile_background_tile\", \"profile_use_background_image\", \"has_extended_profile\", \"default_profile\"]]\n",
        "    y = full_data[\"label\"]\n",
        "\n",
        "    X_train, X_test, y_train, y_test = train_test_split(X, y, test_size=0.3, stratify=y, random_state=117)\n",
        "\n",
        "    #Pipelines\n",
        "    attributes_number = Pipeline(steps = [\n",
        "        ('null_replacement', SimpleImputer(strategy = 'mean')),\n",
        "        ('scaling', StandardScaler())\n",
        "    ])\n",
        "\n",
        "    attributes_category = Pipeline(steps = [\n",
        "        ('null_replacement', SimpleImputer(strategy = 'most_frequent')),\n",
        "        ('encoding', OneHotEncoder(handle_unknown = 'ignore', sparse_output = False))\n",
        "    ])\n",
        "\n",
        "    attributes_preprocess = ColumnTransformer(transformers = [\n",
        "        ('number', attributes_number, X_train.select_dtypes(include='number').columns.tolist()),\n",
        "        ('category', attributes_category, X_train.select_dtypes(include='category').columns.tolist())\n",
        "    ])\n",
        "    label_encoding = LabelEncoder()\n",
        "\n",
        "    y_train = label_encoding.fit_transform(y_train)\n",
        "    y_train\n",
        "    preprocessor = ColumnTransformer(transformers=[\n",
        "        ('number', attributes_number, X_train.select_dtypes(include='number').columns.tolist()),\n",
        "        ('category', attributes_category, X_train.select_dtypes(include='category').columns.tolist())\n",
        "    ])\n",
        "    X_train_preprocessed = preprocessor.fit_transform(X_train)\n",
        "    X_test_preprocessed = preprocessor.transform(X_test)\n",
        "\n",
        "    y_test_encoded = label_encoding.transform(y_test)\n",
        "\n",
        "     # Aquí tú código\n",
        "    # ...\n",
        "\n",
        "\n",
        "    return X_train_preprocessed, X_test_preprocessed, y_train, y_test_encoded"
      ],
      "metadata": {
        "id": "Xx7d79E_Gr8m"
      },
      "execution_count": 77,
      "outputs": []
    },
    {
      "cell_type": "code",
      "source": [
        "def train_models(X_train_preprocessed, y_train):\n",
        "    \"\"\"\n",
        "    Trains Ridge and Decision Tree classifiers.\n",
        "\n",
        "    Args:\n",
        "        X_train (array): Training features.\n",
        "        y_train (array): Training labels.\n",
        "\n",
        "    Returns:\n",
        "        ridge_model (RidgeClassifier): Trained Ridge classifier.\n",
        "        tree_model (DecisionTreeClassifier): Trained Decision Tree classifier.\n",
        "    \"\"\"\n",
        "    #--L2 (RidgeClassifier)--\n",
        "\n",
        "    ridge_model = RidgeClassifier(random_state=117)\n",
        "    ridge_model.fit(X_train_preprocessed, y_train)\n",
        "\n",
        "    #--tree_model (DecisionTreeClassifier)\n",
        "    tree_model = DecisionTreeClassifier(random_state=117)\n",
        "    tree_model.fit(X_train_preprocessed, y_train)\n",
        "\n",
        "    #--Logistic_regression (DecisionTreeClassifier)\n",
        "    logistic_model = LogisticRegression(random_state=117)\n",
        "    logistic_model.fit(X_train_preprocessed, y_train)\n",
        "\n",
        "    #--SVM (DecisionTreeClassifier)\n",
        "    svm_model = svm.SVC(random_state=117)\n",
        "    svm_model.fit(X_train_preprocessed, y_train)\n",
        "    return ridge_model, tree_model, svm_model, logistic_model"
      ],
      "metadata": {
        "id": "drQFOIZkGxNh"
      },
      "execution_count": 78,
      "outputs": []
    },
    {
      "cell_type": "code",
      "source": [
        "def classification_report_to_df(report_dict, model_name):\n",
        "    data = {'model_name': model_name}\n",
        "    for key, value in report_dict.items():\n",
        "        if key == 'accuracy':\n",
        "            data['accuracy'] = value\n",
        "        elif key == 'weighted avg':\n",
        "            data['f1-score'] = value['f1-score']\n",
        "            data['recall'] = value['recall']\n",
        "    return pd.DataFrame([data])"
      ],
      "metadata": {
        "id": "bhcxFePsZOa6"
      },
      "execution_count": 79,
      "outputs": []
    },
    {
      "cell_type": "code",
      "source": [
        "def evaluate_models(X_test_preprocessed, y_test_encoded, ridge_model, tree_model, svm_model, logistic_model):\n",
        "    \"\"\"\n",
        "    Evaluates the performance of the trained models.\n",
        "\n",
        "    Args:\n",
        "        X_test (array): Testing features.\n",
        "        y_test (array): Testing labels.\n",
        "        ridge_model (RidgeClassifier): Trained Ridge classifier.\n",
        "        tree_model (DecisionTreeClassifier): Trained Decision Tree classifier.\n",
        "    \"\"\"\n",
        "    y_pred_ridge = ridge_model.predict(X_test_preprocessed)\n",
        "\n",
        "    y_pred_tree = tree_model.predict(X_test_preprocessed)\n",
        "\n",
        "    y_pred_svm = svm_model.predict(X_test_preprocessed)\n",
        "\n",
        "    y_pred_logistic_reg = logistic_model.predict(X_test_preprocessed)\n",
        "\n",
        "    print(\"Evaluación de RidgeClassifier:\")\n",
        "    logistic_ridge_report_dict = classification_report(y_test_encoded, y_pred_ridge, output_dict=True)\n",
        "    print(\"AUC-ROC:\", roc_auc_score(y_test_encoded, ridge_model.decision_function(X_test_preprocessed)))\n",
        "    ConfusionMatrixDisplay.from_predictions(y_test_encoded, y_pred_ridge)\n",
        "    print(logistic_ridge_report_dict)\n",
        "\n",
        "    # Evaluación de DecisionTreeClassifier\n",
        "    print(\"Evaluación de DecisionTreeClassifier:\")\n",
        "    decision_tree_report_dict = classification_report(y_test_encoded, y_pred_tree, output_dict=True)\n",
        "    print(\"AUC-ROC:\", roc_auc_score(y_test_encoded, tree_model.predict_proba(X_test_preprocessed)[:, 1]))\n",
        "    ConfusionMatrixDisplay.from_predictions(y_test_encoded, y_pred_tree)\n",
        "\n",
        "\n",
        "    # Evaluación de SVM\n",
        "    print(\"Evaluación de SVM:\")\n",
        "    svm_report_dict = classification_report(y_test_encoded, y_pred_svm, output_dict=True)\n",
        "    print(\"AUC-ROC:\", roc_auc_score(y_test_encoded, tree_model.predict_proba(X_test_preprocessed)[:, 1]))\n",
        "    ConfusionMatrixDisplay.from_predictions(y_test_encoded, y_pred_svm)\n",
        "\n",
        "    # Evaluación de RL\n",
        "    print(\"Evaluación de Logistic Reg:\")\n",
        "    logistic_reg_report_dict = classification_report(y_test_encoded, y_pred_logistic_reg, output_dict=True)\n",
        "    print(\"AUC-ROC:\", roc_auc_score(y_test_encoded, tree_model.predict_proba(X_test_preprocessed)[:, 1]))\n",
        "    ConfusionMatrixDisplay.from_predictions(y_test_encoded, y_pred_logistic_reg)\n",
        "\n",
        "    report_df = pd.DataFrame(columns=[\"model_name\", \t\"accuracy\", \t\"f1-score\", \t\"recall\"])\n",
        "    logistic_row = classification_report_to_df(logistic_ridge_report_dict, \"RidgeClassifier\")\n",
        "    decision_tree_row = classification_report_to_df(decision_tree_report_dict, \"Decision Tree\")\n",
        "    svm_row = classification_report_to_df(svm_report_dict, \"SVM\")\n",
        "    logistic_reg_row = classification_report_to_df(logistic_reg_report_dict, \"Logistic Regression\")\n",
        "    report_df = report_df.append(logistic_row, ignore_index=True)\n",
        "    report_df = report_df.append(decision_tree_row, ignore_index=True)\n",
        "    report_df = report_df.append(svm_row, ignore_index=True)\n",
        "    report_df = report_df.append(logistic_reg_row, ignore_index=True)\n",
        "    return report_df\n"
      ],
      "metadata": {
        "id": "8hM74oWoG0hH"
      },
      "execution_count": 80,
      "outputs": []
    },
    {
      "cell_type": "code",
      "source": [
        "# Main script execution\n",
        "if __name__ == \"__main__\":\n",
        "    # Data preprocessing\n",
        "    X_train_preprocessed, X_test_preprocessed, y_train, y_test_encoded = preprocess_data()\n",
        "\n",
        "    # Model training\n",
        "    ridge_model, tree_model, svm_model, logistic_model = train_models(X_train_preprocessed, y_train)\n",
        "\n",
        "    # Model evaluation\n",
        "    report_df = evaluate_models(X_test_preprocessed, y_test_encoded, ridge_model, tree_model, svm_model, logistic_model)"
      ],
      "metadata": {
        "id": "JTGQD2iAG3oN",
        "colab": {
          "base_uri": "https://localhost:8080/",
          "height": 1000
        },
        "outputId": "d85318fd-f297-4adc-d97e-1fb14ae355cc"
      },
      "execution_count": 81,
      "outputs": [
        {
          "output_type": "stream",
          "name": "stdout",
          "text": [
            "x\n",
            "x\n",
            "Evaluación de RidgeClassifier:\n",
            "AUC-ROC: 0.9713239780353874\n",
            "{'0': {'precision': 0.0, 'recall': 0.0, 'f1-score': 0.0, 'support': 209}, '1': {'precision': 0.7403726708074534, 'recall': 1.0, 'f1-score': 0.8508208422555318, 'support': 596}, 'accuracy': 0.7403726708074534, 'macro avg': {'precision': 0.3701863354037267, 'recall': 0.5, 'f1-score': 0.4254104211277659, 'support': 805}, 'weighted avg': {'precision': 0.5481516916785617, 'recall': 0.7403726708074534, 'f1-score': 0.6299244993593751, 'support': 805}}\n",
            "Evaluación de DecisionTreeClassifier:\n",
            "AUC-ROC: 0.9636170964323562\n",
            "Evaluación de SVM:\n",
            "AUC-ROC: 0.9636170964323562\n",
            "Evaluación de Logistic Reg:\n",
            "AUC-ROC: 0.9636170964323562\n"
          ]
        },
        {
          "output_type": "display_data",
          "data": {
            "text/plain": [
              "<Figure size 640x480 with 2 Axes>"
            ],
            "image/png": "[encoded data removed]"
          },
          "metadata": {}
        },
        {
          "output_type": "display_data",
          "data": {
            "text/plain": [
              "<Figure size 640x480 with 2 Axes>"
            ],
            "image/png": "[encoded data removed]"
          },
          "metadata": {}
        },
        {
          "output_type": "display_data",
          "data": {
            "text/plain": [
              "<Figure size 640x480 with 2 Axes>"
            ],
            "image/png": "[encoded data removed]"
          },
          "metadata": {}
        },
        {
          "output_type": "display_data",
          "data": {
            "text/plain": [
              "<Figure size 640x480 with 2 Axes>"
            ],
            "image/png": "[encoded data removed]"
          },
          "metadata": {}
        }
      ]
    }
  ]
}