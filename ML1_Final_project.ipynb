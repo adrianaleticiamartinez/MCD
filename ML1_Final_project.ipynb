{
  "nbformat": 4,
  "nbformat_minor": 0,
  "metadata": {
    "colab": {
      "provenance": [],
      "authorship_tag": "ABX9TyOegH3GBvkJtnZYinlRo8Il",
      "include_colab_link": true
    },
    "kernelspec": {
      "name": "python3",
      "display_name": "Python 3"
    },
    "language_info": {
      "name": "python"
    }
  },
  "cells": [
    {
      "cell_type": "markdown",
      "metadata": {
        "id": "view-in-github",
        "colab_type": "text"
      },
      "source": [
        "<a href=\"https://colab.research.google.com/github/adrianaleticiamartinez/MCD/blob/main/ML1_Final_project.ipynb\" target=\"_parent\"><img src=\"https://colab.research.google.com/assets/colab-badge.svg\" alt=\"Open In Colab\"/></a>"
      ]
    },
    {
      "cell_type": "code",
      "execution_count": null,
      "metadata": {
        "id": "FYGpuI_CElfR"
      },
      "outputs": [],
      "source": []
    },
    {
      "cell_type": "markdown",
      "source": [
        "# Social Media Bot Detection"
      ],
      "metadata": {
        "id": "8DGEnuYfFHwy"
      }
    },
    {
      "cell_type": "markdown",
      "source": [
        "## Information about the project\n",
        " Project Name: Social Media Bot Detection\n",
        "\n",
        "University Name: Universidad Panamericana\n",
        "\n",
        "Course Name: Machine Learning I\n",
        "\n",
        "Team Members: David Arturo Hernández Gómez , Adriana Leticia Martínez Estrada\n",
        "\n",
        "Date: December 5th, 2023\n",
        "\n",
        "Code Version: 1.3\n",
        "\n",
        "**Project Description:** This project aims to develop a machine learning model to distinguish between human and bot behavior on social media platforms.\n",
        "\n",
        "**Execution Instructions:** Run all cells in sequence to preprocess the data, train the models, and evaluate their performance.\n"
      ],
      "metadata": {
        "id": "9Iu20HToEu2h"
      }
    },
    {
      "cell_type": "markdown",
      "source": [],
      "metadata": {
        "id": "3aINxjWrFHEy"
      }
    },
    {
      "cell_type": "markdown",
      "source": [
        "## Implementation"
      ],
      "metadata": {
        "id": "9nvg2PPrFx6s"
      }
    },
    {
      "cell_type": "code",
      "source": [
        "# Necessary library imports\n",
        "import pandas as pd\n",
        "import numpy as np\n",
        "import matplotlib.pyplot as plt\n",
        "from matplotlib.pylab import rcParams\n",
        "from sklearn.datasets import fetch_openml\n",
        "from sklearn.model_selection import train_test_split\n",
        "from sklearn.impute import SimpleImputer\n",
        "from sklearn.preprocessing import OneHotEncoder, StandardScaler, LabelEncoder\n",
        "from sklearn.pipeline import Pipeline\n",
        "from sklearn.compose import ColumnTransformer\n",
        "from sklearn.linear_model import RidgeClassifier\n",
        "from sklearn.tree import DecisionTreeClassifier\n",
        "from sklearn.metrics import classification_report, roc_auc_score, ConfusionMatrixDisplay"
      ],
      "metadata": {
        "id": "CP9ZjCPVEui-"
      },
      "execution_count": null,
      "outputs": []
    },
    {
      "cell_type": "code",
      "source": [
        "# Global variables\n",
        "DATASET_BOT_PATH = 'https://raw.githubusercontent.com/adrianaleticiamartinez/MCD/main/botwiki-2019.tsv'\n",
        "DATASET_BOT_COMPLEMENT_PATH = \"https://raw.githubusercontent.com/adrianaleticiamartinez/MCD/main/botwiki-2019_tweets.json\"\n",
        "DATASET_USER_PATH = 'https://raw.githubusercontent.com/adrianaleticiamartinez/MCD/main/verified-2019.tsv'\n",
        "DATASET_USER_COMPLEMENT_PATH = 'https://raw.githubusercontent.com/adrianaleticiamartinez/MCD/main/verified-2019_tweets.json'"
      ],
      "metadata": {
        "id": "EHhcThG8F3Tt"
      },
      "execution_count": null,
      "outputs": []
    },
    {
      "cell_type": "code",
      "source": [
        "#Cleaning single field registries\n",
        "def columns_analize(df, campos_unicos):\n",
        "  columns_to_drop = []\n",
        "  for i in df.columns:\n",
        "    if len(list(df[i].value_counts())) <= campos_unicos:\n",
        "      columns_to_drop.append(i)\n",
        "  return columns_to_drop"
      ],
      "metadata": {
        "id": "P66Gpzo6ZzqE"
      },
      "execution_count": null,
      "outputs": []
    },
    {
      "cell_type": "code",
      "source": [
        "# Main data preprocessing and analysis functions\n",
        "def preprocess_data():\n",
        "    \"\"\"\n",
        "    Preprocesses the raw data by cleaning and encoding features.\n",
        "\n",
        "    Returns:\n",
        "        X_train_preprocessed (array): Preprocessed training features.\n",
        "        X_test_preprocessed (array): Preprocessed testing features.\n",
        "        y_train (array): Encoded training labels.\n",
        "        y_test (array): Encoded testing labels.\n",
        "    \"\"\"\n",
        "    #--Extraction--\n",
        "    print(\"x\")\n",
        "\n",
        "    #Reading bot information\n",
        "    data_raw_bot = pd.read_csv(DATASET_BOT_PATH,sep='\\t', header=0,  names=['id', 'label'])\n",
        "    data_raw_bot_complement = pd.read_json(DATASET_BOT_COMPLEMENT_PATH)\n",
        "    df_unpacked_bot = pd.json_normalize(data_raw_bot_complement['user'])\n",
        "    joined_bot_data = pd.merge(data_raw_bot, df_unpacked_bot, on=\"id\")\n",
        "    print(\"x\")\n",
        "\n",
        "    #Reading user information\n",
        "    data_raw_user = pd.read_csv(DATASET_USER_PATH,sep='\\t', header=0,  names=['id', 'label'])\n",
        "    data_raw_user_complement = pd.read_json(DATASET_USER_COMPLEMENT_PATH)\n",
        "    df_unpacked_user = pd.json_normalize(data_raw_user_complement['user'])\n",
        "    joined_user_data = pd.merge(data_raw_user, df_unpacked_user, on=\"id\")\n",
        "\n",
        "    #Full data\n",
        "    frames = [joined_bot_data, joined_user_data]\n",
        "    full_data = pd.concat(frames)\n",
        "\n",
        "    #--Transformation--\n",
        "    size_Data = len(full_data)\n",
        "    full_data = full_data.drop(columns = [\"id_str\", \"name\"])\n",
        "\n",
        "\n",
        "\n",
        "    unique_value_all_columns = columns_analize(full_data, 1)\n",
        "\n",
        "    full_data = full_data.drop(columns = unique_value_all_columns)\n",
        "\n",
        "    only_two_values_columns = columns_analize(full_data, 5)\n",
        "\n",
        "    columns_to_drop = []\n",
        "    for i in only_two_values_columns:\n",
        "      percentage_same_value = [(x / size_Data) for x in list(full_data[i].value_counts())]\n",
        "      for j in percentage_same_value:\n",
        "        if j > 0.9:\n",
        "          columns_to_drop.append(i)\n",
        "\n",
        "    full_data = full_data.drop(columns = columns_to_drop)\n",
        "\n",
        "    #Droping all columns that contain an URL\n",
        "    columns_with_url = full_data.filter(regex='url', axis=1)\n",
        "\n",
        "    full_data = full_data.drop(columns = columns_with_url.columns)\n",
        "\n",
        "    #Droping all columns with color data\n",
        "    columns_with_color = full_data.filter(like='color', axis=1)\n",
        "\n",
        "    full_data = full_data.drop(columns=columns_with_color.columns)\n",
        "\n",
        "    #Droping creation date column\n",
        "    full_data = full_data.drop(columns=[\"created_at\"])\n",
        "    #Droping description column\n",
        "\n",
        "    full_data = full_data.drop(columns=[\"description\"])\n",
        "\n",
        "    #Data Segmentation\n",
        "\n",
        "    X = full_data[[\"location\", \"followers_count\", \"friends_count\", \"listed_count\", \"favourites_count\", \"geo_enabled\", \"verified\", \"statuses_count\", \"profile_background_tile\", \"profile_use_background_image\", \"has_extended_profile\", \"default_profile\"]]\n",
        "    y = full_data[\"label\"]\n",
        "\n",
        "    X_train, X_test, y_train, y_test = train_test_split(X, y, test_size=0.3, stratify=y, random_state=117)\n",
        "\n",
        "    #Pipelines\n",
        "    attributes_number = Pipeline(steps = [\n",
        "        ('null_replacement', SimpleImputer(strategy = 'mean')),\n",
        "        ('scaling', StandardScaler())\n",
        "    ])\n",
        "\n",
        "    attributes_category = Pipeline(steps = [\n",
        "        ('null_replacement', SimpleImputer(strategy = 'most_frequent')),\n",
        "        ('encoding', OneHotEncoder(handle_unknown = 'ignore', sparse_output = False))\n",
        "    ])\n",
        "\n",
        "    attributes_preprocess = ColumnTransformer(transformers = [\n",
        "        ('number', attributes_number, X_train.select_dtypes(include='number').columns.tolist()),\n",
        "        ('category', attributes_category, X_train.select_dtypes(include='category').columns.tolist())\n",
        "    ])\n",
        "    label_encoding = LabelEncoder()\n",
        "\n",
        "    y_train = label_encoding.fit_transform(y_train)\n",
        "    y_train\n",
        "    preprocessor = ColumnTransformer(transformers=[\n",
        "        ('number', attributes_number, X_train.select_dtypes(include='number').columns.tolist()),\n",
        "        ('category', attributes_category, X_train.select_dtypes(include='category').columns.tolist())\n",
        "    ])\n",
        "    X_train_preprocessed = preprocessor.fit_transform(X_train)\n",
        "    X_test_preprocessed = preprocessor.transform(X_test)\n",
        "\n",
        "    y_test_encoded = label_encoding.transform(y_test)\n",
        "\n",
        "     # Aquí tú código\n",
        "    # ...\n",
        "\n",
        "\n",
        "    return X_train_preprocessed, X_test_preprocessed, y_train, y_test_encoded"
      ],
      "metadata": {
        "id": "Xx7d79E_Gr8m"
      },
      "execution_count": null,
      "outputs": []
    },
    {
      "cell_type": "code",
      "source": [
        "def train_models(X_train_preprocessed, y_train):\n",
        "    \"\"\"\n",
        "    Trains Ridge and Decision Tree classifiers.\n",
        "\n",
        "    Args:\n",
        "        X_train (array): Training features.\n",
        "        y_train (array): Training labels.\n",
        "\n",
        "    Returns:\n",
        "        ridge_model (RidgeClassifier): Trained Ridge classifier.\n",
        "        tree_model (DecisionTreeClassifier): Trained Decision Tree classifier.\n",
        "    \"\"\"\n",
        "    #--L2 (RidgeClassifier)--\n",
        "\n",
        "    ridge_model = RidgeClassifier()\n",
        "    ridge_model.fit(X_train_preprocessed, y_train)\n",
        "\n",
        "    #--tree_model (DecisionTreeClassifier)\n",
        "    tree_model = DecisionTreeClassifier()\n",
        "    tree_model.fit(X_train_preprocessed, y_train)\n",
        "\n",
        "     # Aquí tú código\n",
        "    # ...\n",
        "\n",
        "    return ridge_model, tree_model"
      ],
      "metadata": {
        "id": "drQFOIZkGxNh"
      },
      "execution_count": null,
      "outputs": []
    },
    {
      "cell_type": "code",
      "source": [
        "def evaluate_models(X_test_preprocessed, y_test_encoded, ridge_model, tree_model):\n",
        "    \"\"\"\n",
        "    Evaluates the performance of the trained models.\n",
        "\n",
        "    Args:\n",
        "        X_test (array): Testing features.\n",
        "        y_test (array): Testing labels.\n",
        "        ridge_model (RidgeClassifier): Trained Ridge classifier.\n",
        "        tree_model (DecisionTreeClassifier): Trained Decision Tree classifier.\n",
        "    \"\"\"\n",
        "    y_pred_ridge = ridge_model.predict(X_test_preprocessed)\n",
        "\n",
        "    y_pred_tree = tree_model.predict(X_test_preprocessed)\n",
        "\n",
        "    print(\"Evaluación de RidgeClassifier:\")\n",
        "    print(classification_report(y_test_encoded, y_pred_ridge))\n",
        "    print(\"AUC-ROC:\", roc_auc_score(y_test_encoded, ridge_model.decision_function(X_test_preprocessed)))\n",
        "    ConfusionMatrixDisplay.from_predictions(y_test_encoded, y_pred_ridge)\n",
        "    plt.show()\n",
        "\n",
        "\n",
        "    # Evaluación de DecisionTreeClassifier\n",
        "    print(\"Evaluación de DecisionTreeClassifier:\")\n",
        "    print(classification_report(y_test_encoded, y_pred_tree))\n",
        "    print(\"AUC-ROC:\", roc_auc_score(y_test_encoded, tree_model.predict_proba(X_test_preprocessed)[:, 1]))\n",
        "    ConfusionMatrixDisplay.from_predictions(y_test_encoded, y_pred_tree)\n",
        "    plt.show()\n",
        "\n",
        "    # Aquí tú código\n",
        "    # ..."
      ],
      "metadata": {
        "id": "8hM74oWoG0hH"
      },
      "execution_count": null,
      "outputs": []
    },
    {
      "cell_type": "code",
      "source": [
        "# Main script execution\n",
        "if __name__ == \"__main__\":\n",
        "    # Data preprocessing\n",
        "    X_train_preprocessed, X_test_preprocessed, y_train, y_test_encoded = preprocess_data()\n",
        "\n",
        "    # Model training\n",
        "    ridge_model, tree_model = train_models(X_train_preprocessed, y_train)\n",
        "\n",
        "    # Model evaluation\n",
        "    evaluate_models(X_test_preprocessed, y_test_encoded, ridge_model, tree_model)"
      ],
      "metadata": {
        "id": "JTGQD2iAG3oN",
        "colab": {
          "base_uri": "https://localhost:8080/",
          "height": 1000
        },
        "outputId": "72584fe9-ae67-480d-d395-b6a696c13521"
      },
      "execution_count": null,
      "outputs": [
        {
          "output_type": "stream",
          "name": "stdout",
          "text": [
            "x\n",
            "x\n",
            "Evaluación de RidgeClassifier:\n",
            "              precision    recall  f1-score   support\n",
            "\n",
            "           0       0.00      0.00      0.00       209\n",
            "           1       0.74      1.00      0.85       596\n",
            "\n",
            "    accuracy                           0.74       805\n",
            "   macro avg       0.37      0.50      0.43       805\n",
            "weighted avg       0.55      0.74      0.63       805\n",
            "\n",
            "AUC-ROC: 0.9713239780353874\n"
          ]
        },
        {
          "output_type": "stream",
          "name": "stderr",
          "text": [
            "/usr/local/lib/python3.10/dist-packages/sklearn/metrics/_classification.py:1344: UndefinedMetricWarning: Precision and F-score are ill-defined and being set to 0.0 in labels with no predicted samples. Use `zero_division` parameter to control this behavior.\n",
            "  _warn_prf(average, modifier, msg_start, len(result))\n",
            "/usr/local/lib/python3.10/dist-packages/sklearn/metrics/_classification.py:1344: UndefinedMetricWarning: Precision and F-score are ill-defined and being set to 0.0 in labels with no predicted samples. Use `zero_division` parameter to control this behavior.\n",
            "  _warn_prf(average, modifier, msg_start, len(result))\n",
            "/usr/local/lib/python3.10/dist-packages/sklearn/metrics/_classification.py:1344: UndefinedMetricWarning: Precision and F-score are ill-defined and being set to 0.0 in labels with no predicted samples. Use `zero_division` parameter to control this behavior.\n",
            "  _warn_prf(average, modifier, msg_start, len(result))\n"
          ]
        },
        {
          "output_type": "display_data",
          "data": {
            "text/plain": [
              "<Figure size 640x480 with 2 Axes>"
            ],
            "image/png": "[encoded data removed]"
          },
          "metadata": {}
        },
        {
          "output_type": "stream",
          "name": "stdout",
          "text": [
            "Evaluación de DecisionTreeClassifier:\n",
            "              precision    recall  f1-score   support\n",
            "\n",
            "           0       0.94      0.95      0.94       209\n",
            "           1       0.98      0.98      0.98       596\n",
            "\n",
            "    accuracy                           0.97       805\n",
            "   macro avg       0.96      0.96      0.96       805\n",
            "weighted avg       0.97      0.97      0.97       805\n",
            "\n",
            "AUC-ROC: 0.9627781702578594\n"
          ]
        },
        {
          "output_type": "display_data",
          "data": {
            "text/plain": [
              "<Figure size 640x480 with 2 Axes>"
            ],
            "image/png": "[encoded data removed]"
          },
          "metadata": {}
        }
      ]
    }
  ]
}